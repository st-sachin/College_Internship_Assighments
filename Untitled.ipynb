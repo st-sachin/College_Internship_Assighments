{
 "cells": [
  {
   "cell_type": "code",
   "execution_count": 18,
   "id": "d4e7e67b",
   "metadata": {},
   "outputs": [],
   "source": [
    "import cv2\n",
    "import numpy as np"
   ]
  },
  {
   "cell_type": "code",
   "execution_count": 19,
   "id": "308d0fd1",
   "metadata": {},
   "outputs": [
    {
     "data": {
      "text/plain": [
       "-1"
      ]
     },
     "execution_count": 19,
     "metadata": {},
     "output_type": "execute_result"
    }
   ],
   "source": [
    "# Reading the Image\n",
    "image = cv2.imread('data/dog.png')\n",
    "\n",
    "# Showing the image\n",
    "cv2.imshow('Original Image', image)\n",
    "cv2.waitKey(0)"
   ]
  },
  {
   "cell_type": "code",
   "execution_count": 20,
   "id": "43d0faae",
   "metadata": {},
   "outputs": [],
   "source": [
    "# Gray Scale \n",
    "gray_image = cv2.cvtColor(image, cv2.COLOR_BGR2GRAY)\n",
    "\n",
    "#Blur image\n",
    "blur_image = cv2.blur(image, (5, 5))\n",
    "\n",
    "#canny Image\n",
    "canny_image = cv2.Canny(image, 100, 200)\n",
    "\n",
    "# Dilated Image\n",
    "dilated_image = cv2.dilate(image, np.ones((5, 5), np.uint8))\n",
    "\n",
    "# Eroded Image\n",
    "eroded_image = cv2.erode(image, np.ones((5, 5), np.uint8))"
   ]
  },
  {
   "cell_type": "code",
   "execution_count": 4,
   "id": "bfb090bd",
   "metadata": {},
   "outputs": [],
   "source": [
    "# Resize image \n",
    "\n",
    "# (i) Smaller than original\n",
    "smaller_image = cv2.resize(image, (500, 500))\n",
    "\n",
    "# # (ii) Upto to screen size\n",
    "# screen_size_image = cv2.resize(image, (cv2.getWindowSize()[0], cv2.getWindowSize()[1]))"
   ]
  },
  {
   "cell_type": "code",
   "execution_count": 5,
   "id": "b7719d46",
   "metadata": {},
   "outputs": [],
   "source": [
    "# Cropping of image\n",
    "cropped_image = image[100:200, 200:300]"
   ]
  },
  {
   "cell_type": "code",
   "execution_count": 6,
   "id": "d07e65e1",
   "metadata": {},
   "outputs": [
    {
     "data": {
      "text/plain": [
       "array([[[26, 14,  4],\n",
       "        [26, 14,  4],\n",
       "        [26, 14,  4],\n",
       "        ...,\n",
       "        [31, 28, 20],\n",
       "        [31, 28, 20],\n",
       "        [31, 28, 20]],\n",
       "\n",
       "       [[26, 14,  4],\n",
       "        [26, 14,  4],\n",
       "        [26, 14,  4],\n",
       "        ...,\n",
       "        [31, 28, 20],\n",
       "        [31, 28, 20],\n",
       "        [31, 28, 20]],\n",
       "\n",
       "       [[26, 14,  4],\n",
       "        [26, 14,  4],\n",
       "        [26, 14,  4],\n",
       "        ...,\n",
       "        [31, 28, 20],\n",
       "        [31, 27, 22],\n",
       "        [31, 27, 22]],\n",
       "\n",
       "       ...,\n",
       "\n",
       "       [[52, 85, 48],\n",
       "        [65, 97, 62],\n",
       "        [57, 88, 55],\n",
       "        ...,\n",
       "        [29, 40, 32],\n",
       "        [31, 42, 34],\n",
       "        [54, 65, 57]],\n",
       "\n",
       "       [[45, 76, 43],\n",
       "        [57, 88, 55],\n",
       "        [56, 87, 56],\n",
       "        ...,\n",
       "        [44, 55, 47],\n",
       "        [29, 40, 32],\n",
       "        [42, 53, 45]],\n",
       "\n",
       "       [[33, 64, 33],\n",
       "        [52, 83, 52],\n",
       "        [47, 77, 48],\n",
       "        ...,\n",
       "        [67, 78, 70],\n",
       "        [31, 42, 34],\n",
       "        [32, 43, 35]]], dtype=uint8)"
      ]
     },
     "execution_count": 6,
     "metadata": {},
     "output_type": "execute_result"
    }
   ],
   "source": [
    "# Insertion of shapes (rectangle & circle) in the given image\n",
    "cv2.rectangle(image, (100, 100), (200, 200), (255, 0, 0), 3)\n",
    "cv2.circle(image, (300, 300), 100, (0, 0, 255), 5)"
   ]
  },
  {
   "cell_type": "code",
   "execution_count": 7,
   "id": "da7af2e7",
   "metadata": {},
   "outputs": [],
   "source": [
    "# # Join two & three different images\n",
    "# joined_image = np.hstack((image, gray_image))\n",
    "# joined_image_2 = np.vstack((image, gray_image, blur_image))"
   ]
  },
  {
   "cell_type": "code",
   "execution_count": 21,
   "id": "597ccd03",
   "metadata": {},
   "outputs": [
    {
     "data": {
      "text/plain": [
       "False"
      ]
     },
     "execution_count": 21,
     "metadata": {},
     "output_type": "execute_result"
    }
   ],
   "source": [
    "# Save all the outputs in some temp folder\n",
    "cv2.imwrite('code/gray_image.jpg', gray_image)"
   ]
  },
  {
   "cell_type": "code",
   "execution_count": 22,
   "id": "4c7a995b",
   "metadata": {},
   "outputs": [
    {
     "data": {
      "text/plain": [
       "False"
      ]
     },
     "execution_count": 22,
     "metadata": {},
     "output_type": "execute_result"
    }
   ],
   "source": [
    "cv2.imwrite('code/blur_image.jpg', blur_image)"
   ]
  },
  {
   "cell_type": "code",
   "execution_count": 23,
   "id": "82b1ee55",
   "metadata": {},
   "outputs": [
    {
     "data": {
      "text/plain": [
       "False"
      ]
     },
     "execution_count": 23,
     "metadata": {},
     "output_type": "execute_result"
    }
   ],
   "source": [
    "cv2.imwrite('code/canny_image.jpg', canny_image)"
   ]
  },
  {
   "cell_type": "code",
   "execution_count": 24,
   "id": "723e79f9",
   "metadata": {},
   "outputs": [
    {
     "data": {
      "text/plain": [
       "False"
      ]
     },
     "execution_count": 24,
     "metadata": {},
     "output_type": "execute_result"
    }
   ],
   "source": [
    "cv2.imwrite('code/dilated_image.jpg', dilated_image)"
   ]
  },
  {
   "cell_type": "code",
   "execution_count": 25,
   "id": "dc2cfcdb",
   "metadata": {},
   "outputs": [
    {
     "data": {
      "text/plain": [
       "False"
      ]
     },
     "execution_count": 25,
     "metadata": {},
     "output_type": "execute_result"
    }
   ],
   "source": [
    "cv2.imwrite('code/eroded_image.jpg', eroded_image)"
   ]
  },
  {
   "cell_type": "code",
   "execution_count": 13,
   "id": "c9060621",
   "metadata": {},
   "outputs": [
    {
     "data": {
      "text/plain": [
       "False"
      ]
     },
     "execution_count": 13,
     "metadata": {},
     "output_type": "execute_result"
    }
   ],
   "source": [
    "cv2.imwrite('code/smaller_image.jpg', smaller_image)"
   ]
  },
  {
   "cell_type": "code",
   "execution_count": 14,
   "id": "74dda685",
   "metadata": {},
   "outputs": [],
   "source": [
    "# cv2.imwrite('code/screen_size_image.jpg', screen_size_image)\n"
   ]
  },
  {
   "cell_type": "code",
   "execution_count": 15,
   "id": "61441d00",
   "metadata": {},
   "outputs": [
    {
     "data": {
      "text/plain": [
       "False"
      ]
     },
     "execution_count": 15,
     "metadata": {},
     "output_type": "execute_result"
    }
   ],
   "source": [
    "cv2.imwrite('code/cropped_image.jpg', cropped_image)\n"
   ]
  },
  {
   "cell_type": "code",
   "execution_count": 16,
   "id": "f87b3bbe",
   "metadata": {},
   "outputs": [],
   "source": [
    "# cv2.imwrite('code/joined_image.jpg', joined_image)\n"
   ]
  },
  {
   "cell_type": "code",
   "execution_count": 17,
   "id": "be81dbbb",
   "metadata": {},
   "outputs": [],
   "source": [
    "# cv2.imwrite('code/joined_image_2.jpg', joined_image_2)"
   ]
  }
 ],
 "metadata": {
  "kernelspec": {
   "display_name": "Python 3 (ipykernel)",
   "language": "python",
   "name": "python3"
  },
  "language_info": {
   "codemirror_mode": {
    "name": "ipython",
    "version": 3
   },
   "file_extension": ".py",
   "mimetype": "text/x-python",
   "name": "python",
   "nbconvert_exporter": "python",
   "pygments_lexer": "ipython3",
   "version": "3.9.7"
  }
 },
 "nbformat": 4,
 "nbformat_minor": 5
}
