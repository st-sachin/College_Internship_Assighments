{
 "cells": [
  {
   "cell_type": "code",
   "execution_count": 1,
   "id": "d62adb86",
   "metadata": {},
   "outputs": [],
   "source": [
    "import cv2\n",
    "import numpy as np\n"
   ]
  },
  {
   "cell_type": "code",
   "execution_count": 2,
   "id": "b59e5451",
   "metadata": {},
   "outputs": [],
   "source": [
    "# 1) Read image\n",
    "image_path = 'data/dog.png'\n",
    "image = cv2.imread(image_path)\n",
    "\n",
    "# 2) Show image\n",
    "cv2.imshow('Original Image', image)\n",
    "cv2.waitKey(0)\n",
    "cv2.destroyAllWindows()"
   ]
  },
  {
   "cell_type": "code",
   "execution_count": 3,
   "id": "d3405c40",
   "metadata": {},
   "outputs": [],
   "source": [
    "# 3) Convert image into Gray, Blur, Canny, Dilation & Eroded image\n",
    "gray_image = cv2.cvtColor(image, cv2.COLOR_BGR2GRAY)\n",
    "blurred_image = cv2.GaussianBlur(image, (7, 7), 0)\n",
    "canny_image = cv2.Canny(image, 100, 150)\n",
    "kernel = np.ones((5, 5), np.uint8)\n",
    "dilated_image = cv2.dilate(image, kernel, iterations=1)\n",
    "eroded_image = cv2.erode(image, kernel, iterations=1)"
   ]
  },
  {
   "cell_type": "code",
   "execution_count": 4,
   "id": "c0db3e86",
   "metadata": {},
   "outputs": [],
   "source": [
    "# 4) Resize image into: (i) Smaller than original & (ii) Up to screen size\n",
    "# (i) Smaller than original\n",
    "smaller_image = cv2.resize(image, (0, 0), fx=0.5, fy=0.5)"
   ]
  },
  {
   "cell_type": "code",
   "execution_count": 5,
   "id": "a61682de",
   "metadata": {},
   "outputs": [],
   "source": [
    "\n",
    "# (ii) Up to screen size\n",
    "screen_width = 1920  # Set your desired screen width\n",
    "screen_height = 1080  # Set your desired screen height\n",
    "resized_image = cv2.resize(image, (screen_width, screen_height))"
   ]
  },
  {
   "cell_type": "code",
   "execution_count": 6,
   "id": "88018c14",
   "metadata": {},
   "outputs": [],
   "source": [
    "\n",
    "# 5) Cropping of image\n",
    "cropped_image = image[100:300, 200:400]"
   ]
  },
  {
   "cell_type": "code",
   "execution_count": 7,
   "id": "8d1d37bf",
   "metadata": {},
   "outputs": [
    {
     "data": {
      "text/plain": [
       "array([[[26, 14,  4],\n",
       "        [26, 14,  4],\n",
       "        [26, 14,  4],\n",
       "        ...,\n",
       "        [31, 28, 20],\n",
       "        [31, 28, 20],\n",
       "        [31, 28, 20]],\n",
       "\n",
       "       [[26, 14,  4],\n",
       "        [26, 14,  4],\n",
       "        [26, 14,  4],\n",
       "        ...,\n",
       "        [31, 28, 20],\n",
       "        [31, 28, 20],\n",
       "        [31, 28, 20]],\n",
       "\n",
       "       [[26, 14,  4],\n",
       "        [26, 14,  4],\n",
       "        [26, 14,  4],\n",
       "        ...,\n",
       "        [31, 28, 20],\n",
       "        [31, 27, 22],\n",
       "        [31, 27, 22]],\n",
       "\n",
       "       ...,\n",
       "\n",
       "       [[52, 85, 48],\n",
       "        [65, 97, 62],\n",
       "        [57, 88, 55],\n",
       "        ...,\n",
       "        [29, 40, 32],\n",
       "        [31, 42, 34],\n",
       "        [54, 65, 57]],\n",
       "\n",
       "       [[45, 76, 43],\n",
       "        [57, 88, 55],\n",
       "        [56, 87, 56],\n",
       "        ...,\n",
       "        [44, 55, 47],\n",
       "        [29, 40, 32],\n",
       "        [42, 53, 45]],\n",
       "\n",
       "       [[33, 64, 33],\n",
       "        [52, 83, 52],\n",
       "        [47, 77, 48],\n",
       "        ...,\n",
       "        [67, 78, 70],\n",
       "        [31, 42, 34],\n",
       "        [32, 43, 35]]], dtype=uint8)"
      ]
     },
     "execution_count": 7,
     "metadata": {},
     "output_type": "execute_result"
    }
   ],
   "source": [
    "\n",
    "\n",
    "# 6) Insertion of shapes (rectangle & circle) in the given image\n",
    "# Rectangle\n",
    "rectangle_image = image.copy()\n",
    "cv2.rectangle(rectangle_image, (50, 50), (200, 200), (0, 255, 0), 3)"
   ]
  },
  {
   "cell_type": "code",
   "execution_count": 8,
   "id": "e264e2fa",
   "metadata": {},
   "outputs": [
    {
     "data": {
      "text/plain": [
       "array([[[26, 14,  4],\n",
       "        [26, 14,  4],\n",
       "        [26, 14,  4],\n",
       "        ...,\n",
       "        [31, 28, 20],\n",
       "        [31, 28, 20],\n",
       "        [31, 28, 20]],\n",
       "\n",
       "       [[26, 14,  4],\n",
       "        [26, 14,  4],\n",
       "        [26, 14,  4],\n",
       "        ...,\n",
       "        [31, 28, 20],\n",
       "        [31, 28, 20],\n",
       "        [31, 28, 20]],\n",
       "\n",
       "       [[26, 14,  4],\n",
       "        [26, 14,  4],\n",
       "        [26, 14,  4],\n",
       "        ...,\n",
       "        [31, 28, 20],\n",
       "        [31, 27, 22],\n",
       "        [31, 27, 22]],\n",
       "\n",
       "       ...,\n",
       "\n",
       "       [[52, 85, 48],\n",
       "        [65, 97, 62],\n",
       "        [57, 88, 55],\n",
       "        ...,\n",
       "        [29, 40, 32],\n",
       "        [31, 42, 34],\n",
       "        [54, 65, 57]],\n",
       "\n",
       "       [[45, 76, 43],\n",
       "        [57, 88, 55],\n",
       "        [56, 87, 56],\n",
       "        ...,\n",
       "        [44, 55, 47],\n",
       "        [29, 40, 32],\n",
       "        [42, 53, 45]],\n",
       "\n",
       "       [[33, 64, 33],\n",
       "        [52, 83, 52],\n",
       "        [47, 77, 48],\n",
       "        ...,\n",
       "        [67, 78, 70],\n",
       "        [31, 42, 34],\n",
       "        [32, 43, 35]]], dtype=uint8)"
      ]
     },
     "execution_count": 8,
     "metadata": {},
     "output_type": "execute_result"
    }
   ],
   "source": [
    "\n",
    "\n",
    "# Circle\n",
    "circle_image = image.copy()\n",
    "cv2.circle(circle_image, (250, 250), 100, (0, 0, 255), 3)"
   ]
  },
  {
   "cell_type": "code",
   "execution_count": 9,
   "id": "dc59a4c9",
   "metadata": {},
   "outputs": [],
   "source": [
    "# 7) Join two & three different images\n",
    "# Join two images horizontally\n",
    "horizontal_concat = np.concatenate((image, image), axis=1)"
   ]
  },
  {
   "cell_type": "code",
   "execution_count": 10,
   "id": "6ad9d646",
   "metadata": {},
   "outputs": [],
   "source": [
    "\n",
    "\n",
    "\n",
    "# Join three images vertically\n",
    "vertical_concat = np.concatenate((image, image, image), axis=0)\n",
    "\n",
    "# Save all the outputs in a temporary folder\n",
    "temp_folder = 'data/'"
   ]
  },
  {
   "cell_type": "code",
   "execution_count": 11,
   "id": "211f6984",
   "metadata": {},
   "outputs": [
    {
     "data": {
      "text/plain": [
       "True"
      ]
     },
     "execution_count": 11,
     "metadata": {},
     "output_type": "execute_result"
    }
   ],
   "source": [
    "cv2.imwrite(temp_folder + 'gray_image.jpg', gray_image)\n",
    "cv2.imwrite(temp_folder + 'blurred_image.jpg', blurred_image)\n",
    "cv2.imwrite(temp_folder + 'canny_image.jpg', canny_image)\n",
    "cv2.imwrite(temp_folder + 'dilated_image.jpg', dilated_image)\n",
    "cv2.imwrite(temp_folder + 'eroded_image.jpg', eroded_image)\n",
    "cv2.imwrite(temp_folder + 'smaller_image.jpg', smaller_image)\n",
    "cv2.imwrite(temp_folder + 'resized_image.jpg', resized_image)\n",
    "cv2.imwrite(temp_folder + 'cropped_image.jpg', cropped_image)\n",
    "cv2.imwrite(temp_folder + 'rectangle_image.jpg', rectangle_image)\n",
    "cv2.imwrite(temp_folder + 'circle_image.jpg', circle_image)\n",
    "cv2.imwrite(temp_folder + 'horizontal_concat.jpg', horizontal_concat)\n",
    "cv2.imwrite(temp_folder + 'vertical_concat.jpg', vertical_concat)"
   ]
  },
  {
   "cell_type": "code",
   "execution_count": null,
   "id": "ff2be6f5",
   "metadata": {},
   "outputs": [],
   "source": []
  },
  {
   "cell_type": "code",
   "execution_count": null,
   "id": "9dad65d7",
   "metadata": {},
   "outputs": [],
   "source": []
  }
 ],
 "metadata": {
  "kernelspec": {
   "display_name": "Python 3 (ipykernel)",
   "language": "python",
   "name": "python3"
  },
  "language_info": {
   "codemirror_mode": {
    "name": "ipython",
    "version": 3
   },
   "file_extension": ".py",
   "mimetype": "text/x-python",
   "name": "python",
   "nbconvert_exporter": "python",
   "pygments_lexer": "ipython3",
   "version": "3.9.7"
  }
 },
 "nbformat": 4,
 "nbformat_minor": 5
}
